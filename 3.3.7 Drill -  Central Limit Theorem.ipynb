{
 "cells": [
  {
   "cell_type": "code",
   "execution_count": 2,
   "metadata": {},
   "outputs": [],
   "source": [
    "import numpy as np\n",
    "import pandas as pd\n",
    "import matplotlib.pyplot as plt\n",
    "% matplotlib inline"
   ]
  },
  {
   "cell_type": "code",
   "execution_count": 13,
   "metadata": {},
   "outputs": [
    {
     "name": "stdout",
     "output_type": "stream",
     "text": [
      "1.2859237924542808\n",
      "2.08\n",
      "1.6028412273210344\n",
      "5.03\n"
     ]
    }
   ],
   "source": [
    "pop1 = np.random.binomial(10,0.2,10000)\n",
    "pop2 = np.random.binomial(10,0.5,10000)\n",
    "\n",
    "sam1 = np.random.choice(pop1,100, replace=True)\n",
    "sam2 = np.random.choice(pop2,100, replace=True)\n",
    "print(sam1.std())\n",
    "print(sam1.mean())\n",
    "print(sam2.std())\n",
    "print(sam2.mean())"
   ]
  },
  {
   "cell_type": "code",
   "execution_count": 14,
   "metadata": {},
   "outputs": [
    {
     "name": "stdout",
     "output_type": "stream",
     "text": [
      "1.31070057602795\n",
      "1.992\n",
      "1.5450618110612921\n",
      "5.028\n"
     ]
    },
    {
     "data": {
      "image/png": "[encoded data removed]",
      "text/plain": [
       "<Figure size 432x288 with 1 Axes>"
      ]
     },
     "metadata": {
      "needs_background": "light"
     },
     "output_type": "display_data"
    }
   ],
   "source": [
    "## sample size 1000\n",
    "sam3 = np.random.choice(pop1,1000, replace=True)\n",
    "sam4 = np.random.choice(pop2,1000, replace=True)\n",
    "print(sam3.std())\n",
    "print(sam3.mean())\n",
    "print(sam4.std())\n",
    "print(sam4.mean())\n",
    "plt.hist(sam3, alpha = 0.5, label = 'sam3')\n",
    "plt.hist(sam4, alpha = 0.5, label = 'sam4')\n",
    "plt.legend(loc = 'upper right')\n",
    "plt.show()"
   ]
  },
  {
   "cell_type": "code",
   "execution_count": 15,
   "metadata": {},
   "outputs": [
    {
     "name": "stdout",
     "output_type": "stream",
     "text": [
      "1.1874342087037917\n",
      "2.3\n",
      "1.2359207094308275\n",
      "4.85\n"
     ]
    },
    {
     "data": {
      "image/png": "[encoded data removed]",
      "text/plain": [
       "<Figure size 432x288 with 1 Axes>"
      ]
     },
     "metadata": {
      "needs_background": "light"
     },
     "output_type": "display_data"
    }
   ],
   "source": [
    "## sample size 20\n",
    "sam5 = np.random.choice(pop1,20, replace=True)\n",
    "sam6 = np.random.choice(pop2,20, replace=True)\n",
    "print(sam5.std())\n",
    "print(sam5.mean())\n",
    "print(sam6.std())\n",
    "print(sam6.mean())\n",
    "plt.hist(sam5, alpha = 0.5, label = 'sam3')\n",
    "plt.hist(sam6, alpha = 0.5, label = 'sam4')\n",
    "plt.legend(loc = 'upper right')\n",
    "plt.show()"
   ]
  },
  {
   "cell_type": "code",
   "execution_count": 20,
   "metadata": {},
   "outputs": [
    {
     "name": "stdout",
     "output_type": "stream",
     "text": [
      "Ttest_indResult(statistic=6.347186806970459, pvalue=1.5150807582300649e-09)\n"
     ]
    }
   ],
   "source": [
    "## p is 0.3\n",
    "pop3 = np.random.binomial(10,0.3,10000)\n",
    "pop4 = np.random.binomial(10,0.5,10000)\n",
    "\n",
    "samp1 = np.random.choice(pop3,100, replace=True)\n",
    "samp2 = np.random.choice(pop4,100, replace=True)\n",
    "\n",
    "from scipy.stats import ttest_ind\n",
    "print(ttest_ind(samp2, samp1, equal_var=False))"
   ]
  },
  {
   "cell_type": "code",
   "execution_count": 21,
   "metadata": {},
   "outputs": [
    {
     "name": "stdout",
     "output_type": "stream",
     "text": [
      "Ttest_indResult(statistic=5.010906403067228, pvalue=1.197748837744074e-06)\n"
     ]
    }
   ],
   "source": [
    "## p is 0.4\n",
    "pop5 = np.random.binomial(10,0.4,10000)\n",
    "pop6 = np.random.binomial(10,0.5,10000)\n",
    "\n",
    "sample1 = np.random.choice(pop5,100, replace=True)\n",
    "sample2 = np.random.choice(pop6,100, replace=True)\n",
    "\n",
    "from scipy.stats import ttest_ind\n",
    "print(ttest_ind(sample2, sample1, equal_var=False))"
   ]
  },
  {
   "cell_type": "markdown",
   "metadata": {},
   "source": [
    "From above piece of code it can be seen that t-value reduces but p-value increases"
   ]
  }
 ],
 "metadata": {
  "kernelspec": {
   "display_name": "Python 3",
   "language": "python",
   "name": "python3"
  },
  "language_info": {
   "codemirror_mode": {
    "name": "ipython",
    "version": 3
   },
   "file_extension": ".py",
   "mimetype": "text/x-python",
   "name": "python",
   "nbconvert_exporter": "python",
   "pygments_lexer": "ipython3",
   "version": "3.7.0"
  }
 },
 "nbformat": 4,
 "nbformat_minor": 2
}
